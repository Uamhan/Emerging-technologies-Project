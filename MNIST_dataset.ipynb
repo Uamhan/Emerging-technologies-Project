{
 "cells": [
  {
   "cell_type": "markdown",
   "metadata": {},
   "source": [
    "## The MNIST Dataset\n",
    "\n",
    "The MNIST (modified national institute of standards and technology) Dataset  is a a computer vision dataset. it consists of 60,000 training datapoints and 10,000 testing datapoints. Each datapoint consists of a 28x28 pixel image. This image represents a handwriten digit. The MNIST dataset is a sub set of the much larger NIST dataset where by the digits have been size normalised to the 28x28 pixel size and they have been centrered. This formating and pre processing allows for a normailsed dataset so that we can get as acurate as possible results from our machine learning algorythms.\n",
    "\n",
    "For machine learning classification we need fetures and labels for the data. Features being the peices of information or varibles for each datapoint and the label being the classification assigned to that datapoint. We previously discused the IRIS dataset in another notebook in this repository whereby there was 4 features and a label for each datapoint. The MNIST data set is a little more complex. For each datapoint we have a 28x28 pixel image and a label stateing what number that image is ment to represent. \n",
    "\n",
    "This 28x28 pixel image is represented by a numpy array with the shape (28,28) with each digit in the array represent a pixel. Each value iin this array ranges between 0 and 1. 0 being white 1 being black and the numbers between being varrying degrees of gray. as shown by the image below from Christopher Olahs blog on The MNIST Dataset."
   ]
  },
  {
   "cell_type": "markdown",
   "metadata": {},
   "source": [
    "<img src=\"img/MNIST_Array.jpg\" />"
   ]
  },
  {
   "cell_type": "markdown",
   "metadata": {},
   "source": [
    "To suit our purposes of machinelearning we need to reformat this data so that we can split it into individual features as discused earlyer. To do this we simmply flatten the 28x28 array into 784 dimensional vector. now we have 784 individual varibles or features describing the intensity of a pixel at a given point in the image. we can now have a datapoint we can use. \n",
    "\n",
    "with the IRIS dataset we had datapoints that had 4 features and 1 label now after flattening the arrays representing the images we have a dataset that's datapoints have 784 features and 1 label."
   ]
  },
  {
   "cell_type": "code",
   "execution_count": 1,
   "metadata": {},
   "outputs": [
    {
     "data": {
      "text/plain": [
       "(42000, 785)"
      ]
     },
     "execution_count": 1,
     "metadata": {},
     "output_type": "execute_result"
    }
   ],
   "source": [
    "#import numpy for use of efficent arrays.\n",
    "import numpy as np\n",
    "#import pandas for reading iin the csv file.\n",
    "import pandas as pd\n",
    "#import matplotlib to plot graphs.\n",
    "import matplotlib.pyplot as plt\n",
    "#import the train.csv file which contains data into a varible called data.\n",
    "data = pd.read_csv('./resources/train.csv')\n",
    "\n",
    "#shows that we have 785 columns per row and 42,000 rows. \n",
    "data.shape"
   ]
  },
  {
   "cell_type": "markdown",
   "metadata": {},
   "source": [
    "To get a simple representation of this data we will plot the information in a given row as a 28x28 pixel grid and print the label beneth to show that the training file we imported acctualy dose represent the hand written digits of the MNIST dataset."
   ]
  },
  {
   "cell_type": "code",
   "execution_count": 10,
   "metadata": {},
   "outputs": [
    {
     "data": {
      "image/png": "[encoded data removed]",
      "text/plain": [
       "<Figure size 504x504 with 1 Axes>"
      ]
     },
     "metadata": {},
     "output_type": "display_data"
    },
    {
     "name": "stdout",
     "output_type": "stream",
     "text": [
      "3\n"
     ]
    }
   ],
   "source": [
    "#creates array of labels called l\n",
    "l = data['label']\n",
    "#creates array with all but the labels called d\n",
    "d = data.drop(\"label\",axis=1) \n",
    "#sets the image size for the plot\n",
    "plt.figure(figsize=(7,7))\n",
    "#changeable index value which selects with datapoint to display bellow\n",
    "#you can change this value as you please to see other values from the data set.\n",
    "index = 90\n",
    "#shapes the dataframe at the given index back to a 28x28 array\n",
    "shapedData = d.iloc[index].values.reshape(28,28)\n",
    "#plots the reshaped datapoint as an image useing the grayscale cmap with no interpolation\n",
    "plt.imshow(shapedData,interpolation=\"none\",cmap=\"gray\")\n",
    "#shows plot\n",
    "plt.show()\n",
    "#prints the label of the same ploted image.\n",
    "print(l[index])"
   ]
  },
  {
   "cell_type": "code",
   "execution_count": null,
   "metadata": {},
   "outputs": [],
   "source": []
  },
  {
   "cell_type": "code",
   "execution_count": null,
   "metadata": {},
   "outputs": [],
   "source": []
  },
  {
   "cell_type": "code",
   "execution_count": null,
   "metadata": {},
   "outputs": [],
   "source": [
    "\n"
   ]
  }
 ],
 "metadata": {
  "kernelspec": {
   "display_name": "Python 3",
   "language": "python",
   "name": "python3"
  },
  "language_info": {
   "codemirror_mode": {
    "name": "ipython",
    "version": 3
   },
   "file_extension": ".py",
   "mimetype": "text/x-python",
   "name": "python",
   "nbconvert_exporter": "python",
   "pygments_lexer": "ipython3",
   "version": "3.6.5"
  }
 },
 "nbformat": 4,
 "nbformat_minor": 2
}
