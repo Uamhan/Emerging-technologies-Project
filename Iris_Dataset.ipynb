{
 "cells": [
  {
   "cell_type": "markdown",
   "metadata": {},
   "source": [
    "# Iris Dataset.\n",
    "\n",
    "In this notebook we will discuss the iris dataset and its usefulness when learning about machine learning. this data set was created by ronald fisher in 1935. It is a realitivily simple data set as far as datasets go in machine learning and is often considered the \"hello world\" of data science and machine learning.(for those unfamilar with programing practices \"hello world\" is often the first program someone will write when learning a new programing language).\n",
    "\n",
    "At the start of any new machine learning venture such as this we must do two things. understand the problem we are trying to solve with machine learning and domain knowledge.\n",
    "\n",
    "### The Problem.\n",
    "\n",
    "With the iris data set we are given 4 features or varibles in regards to the iris and a 5th varible that denotes the species of the iris. the problem we have to solve is that given a new iris with the four features we should be able to programaticly return to a high level of certanty the species of this new iris.\n",
    "\n",
    "### Domain knowledge.\n",
    "\n",
    "Now that we know what the problem we have to solve is, we need Domain knowledge or knoledge regarding the area we are working in. In this case domain knowledge would refer to information about the iris flower ie. the 3 species and what the features are and how thy relate to the flower.\n",
    "\n",
    "Their are three species of iris"
   ]
  },
  {
   "cell_type": "markdown",
   "metadata": {},
   "source": [
    "## Iris Versicolor\n",
    "<img src=\"img/versicolor.jpg\" width=\"600\" height=\"400\" align=\"left\"  />\n"
   ]
  },
  {
   "cell_type": "markdown",
   "metadata": {},
   "source": [
    "## Iris Setosa\n",
    "<img src=\"img/setosa.jpg\" width=\"600\" height=\"400\" align=\"left\" />\n"
   ]
  },
  {
   "cell_type": "markdown",
   "metadata": {},
   "source": [
    "## Iris Virginica\n",
    "<img src=\"img/virginica.jpg\" width=\"600\" height=\"400\" align=\"left\" />"
   ]
  },
  {
   "cell_type": "markdown",
   "metadata": {},
   "source": [
    "These are three images of the iris species. These species are what we are aiming to determin from the features given in the dataset. these species act as our clasification. now that we have an idea of the iris species we need to look at what the features given in the iris dataset are.\n",
    "\n",
    "1. Petal Width.\n",
    "2. Petal Height.\n",
    "3. Sepal Width.\n",
    "4. Sepal Height.\n",
    "\n",
    "most people will know what a flower petal is but less will know that sepal is the leaf like strure that extends out fiurther than the petals on an iris as seen in the image bellow."
   ]
  },
  {
   "cell_type": "markdown",
   "metadata": {},
   "source": [
    "<img src=\"img/sepalvspetal.jpg\" width=\"600\" height=\"400\" align=\"left\" />"
   ]
  },
  {
   "cell_type": "markdown",
   "metadata": {},
   "source": [
    "We now know that our goal is to clasify an iris species given the four features state above and have an understadning of the iris species what the given features represent. "
   ]
  },
  {
   "cell_type": "markdown",
   "metadata": {},
   "source": [
    "## Further understanding the Dataset.\n",
    "\n",
    "we now have a visual understanding of the dataset. Now would be a good time to scatter plot the data set to get an idea of how the features coralate to the species."
   ]
  },
  {
   "cell_type": "code",
   "execution_count": 1,
   "metadata": {},
   "outputs": [],
   "source": [
    "# Import pandas.\n",
    "import pandas as pd\n",
    "# import seaborn for graph styling.\n",
    "import seaborn as sns\n",
    "# import matplotlib for ploting graphs.\n",
    "import matplotlib.pyplot as plt\n",
    "# import numpy for array manipulation.\n",
    "import numpy as np\n",
    "\n",
    "# Load the iris data set from a URL.\n",
    "iris = pd.read_csv(\"https://raw.githubusercontent.com/uiuc-cse/data-fa14/gh-pages/data/iris.csv\")"
   ]
  },
  {
   "cell_type": "markdown",
   "metadata": {},
   "source": [
    "Now that we have loaded the iris data set into the variable iris, we can display details to get a better understanding of the data set such as how many items are in the data set and the column names."
   ]
  },
  {
   "cell_type": "code",
   "execution_count": 2,
   "metadata": {},
   "outputs": [
    {
     "data": {
      "text/plain": [
       "(150, 5)"
      ]
     },
     "execution_count": 2,
     "metadata": {},
     "output_type": "execute_result"
    }
   ],
   "source": [
    "#this gives us the shape of the array holding the data set\n",
    "#this tells us that there are 150 datapoints in the data set and that each entery has five variables.\n",
    "iris.shape"
   ]
  },
  {
   "cell_type": "code",
   "execution_count": 3,
   "metadata": {},
   "outputs": [
    {
     "data": {
      "text/plain": [
       "Index(['sepal_length', 'sepal_width', 'petal_length', 'petal_width',\n",
       "       'species'],\n",
       "      dtype='object')"
      ]
     },
     "execution_count": 3,
     "metadata": {},
     "output_type": "execute_result"
    }
   ],
   "source": [
    "# this gives us the column names for each of the five varibles contained within each datapoint.\n",
    "iris.columns"
   ]
  },
  {
   "cell_type": "code",
   "execution_count": 5,
   "metadata": {},
   "outputs": [
    {
     "data": {
      "text/plain": [
       "virginica     50\n",
       "setosa        50\n",
       "versicolor    50\n",
       "Name: species, dtype: int64"
      ]
     },
     "execution_count": 5,
     "metadata": {},
     "output_type": "execute_result"
    }
   ],
   "source": [
    "# Gives us a count of how many of each species is in the dataset.\n",
    "iris[\"species\"].value_counts()"
   ]
  },
  {
   "cell_type": "markdown",
   "metadata": {},
   "source": [
    "As we can see above we have 50 of each species of iris in this data set. this shows"
   ]
  }
 ],
 "metadata": {
  "kernelspec": {
   "display_name": "Python 3",
   "language": "python",
   "name": "python3"
  },
  "language_info": {
   "codemirror_mode": {
    "name": "ipython",
    "version": 3
   },
   "file_extension": ".py",
   "mimetype": "text/x-python",
   "name": "python",
   "nbconvert_exporter": "python",
   "pygments_lexer": "ipython3",
   "version": "3.6.5"
  }
 },
 "nbformat": 4,
 "nbformat_minor": 2
}
