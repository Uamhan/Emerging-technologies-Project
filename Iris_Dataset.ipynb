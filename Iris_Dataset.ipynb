{
 "cells": [
  {
   "cell_type": "markdown",
   "metadata": {},
   "source": [
    "# Iris Dataset.\n",
    "\n",
    "In this notebook we will discuss the iris dataset and its usefulness when learning about machine learning. this data set was created by ronald fisher in 1935. It is a realitivily simple data set as far as datasets go in machine learning and is often considered the \"hello world\" of data science and machine learning.(for those unfamilar with programing practices \"hello world\" is often the first program someone will write when learning a new programing language).\n",
    "\n",
    "At the start of any new machine learning venture such as this we must do two things. understand the problem we are trying to solve with machine learning and domain knowledge.\n",
    "\n",
    "### The Problem.\n",
    "\n",
    "With the iris data set we are given 4 features or varibles in regards to the iris and a 5th varible that denotes the species of the iris. the problem we have to solve is that given a new iris with the four features we should be able to programaticly return to a high level of certanty the species of this new iris.\n",
    "\n",
    "### Domain knowledge.\n",
    "\n",
    "Now that we know what the problem we have to solve is, we need Domain knowledge or knoledge regarding the area we are working in. In this case domain knowledge would refer to information about the iris flower ie. the 3 species and what the features are and how thy relate to the flower.\n",
    "\n",
    "Their are three species of iris"
   ]
  },
  {
   "cell_type": "markdown",
   "metadata": {},
   "source": [
    "## Iris Versicolor\n",
    "<img src=\"img/versicolor.jpg\" width=\"600\" height=\"400\" align=\"left\"  />\n"
   ]
  },
  {
   "cell_type": "markdown",
   "metadata": {},
   "source": [
    "## Iris Setosa\n",
    "<img src=\"img/setosa.jpg\" width=\"600\" height=\"400\" align=\"left\" />\n"
   ]
  },
  {
   "cell_type": "markdown",
   "metadata": {},
   "source": [
    "## Iris Virginica\n",
    "<img src=\"img/virginica.jpg\" width=\"600\" height=\"400\" align=\"left\" />"
   ]
  },
  {
   "cell_type": "markdown",
   "metadata": {},
   "source": [
    "These are three images of the iris species. These species are what we are aiming to determin from the features given in the dataset. these species act as our clasification. now that we have an idea of the iris species we need to look at what the features given in the iris dataset are.\n",
    "\n",
    "1. Petal Width.\n",
    "2. Petal Height.\n",
    "3. Sepal Width.\n",
    "4. Sepal Height."
   ]
  },
  {
   "cell_type": "code",
   "execution_count": null,
   "metadata": {},
   "outputs": [],
   "source": []
  }
 ],
 "metadata": {
  "kernelspec": {
   "display_name": "Python 3",
   "language": "python",
   "name": "python3"
  },
  "language_info": {
   "codemirror_mode": {
    "name": "ipython",
    "version": 3
   },
   "file_extension": ".py",
   "mimetype": "text/x-python",
   "name": "python",
   "nbconvert_exporter": "python",
   "pygments_lexer": "ipython3",
   "version": "3.6.5"
  }
 },
 "nbformat": 4,
 "nbformat_minor": 2
}
