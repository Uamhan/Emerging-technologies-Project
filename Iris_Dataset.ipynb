{
 "cells": [
  {
   "cell_type": "markdown",
   "metadata": {},
   "source": [
    "# Iris Dataset.\n",
    "\n",
    "In this notebook we will discuss the iris dataset and its usefulness when learning about machine learning. this data set was created by ronald fisher in 1935. It is a realitivily simple data set as far as datasets go in machine learning and is often considered the \"hello world\" of data science and machine learning.(for those unfamilar with programing practices \"hello world\" is often the first program someone will write when learning a new programing language).\n",
    "\n",
    "At the start of any new machine learning venture such as this we must do two things. understand the problem we are trying to solve with machine learning and domain knowledge.\n",
    "\n",
    "### The Problem.\n",
    "\n",
    "With the iris data set we are given 4 features or varibles in regards to the iris and a 5th varible that denotes the species of the iris. the problem we have to solve is that given a new iris with the four features we should be able to programaticly return to a high level of certanty the species of this new iris.\n",
    "\n",
    "### Domain knowledge.\n",
    "\n",
    "Now that we know what the problem we have to solve is, we need Domain knowledge or knoledge regarding the area we are working in. In this case domain knowledge would refer to information about the iris flower ie. the 3 species and what the features are and how thy relate to the flower.\n",
    "\n",
    "Their are three species of iris\n",
    "\n",
    "Iris Versi Color\n",
    "\n",
    "Iris Setosa\n",
    "\n",
    "Iris Virginica\n",
    "\n"
   ]
  }
 ],
 "metadata": {
  "kernelspec": {
   "display_name": "Python 3",
   "language": "python",
   "name": "python3"
  },
  "language_info": {
   "codemirror_mode": {
    "name": "ipython",
    "version": 3
   },
   "file_extension": ".py",
   "mimetype": "text/x-python",
   "name": "python",
   "nbconvert_exporter": "python",
   "pygments_lexer": "ipython3",
   "version": "3.6.5"
  }
 },
 "nbformat": 4,
 "nbformat_minor": 2
}
