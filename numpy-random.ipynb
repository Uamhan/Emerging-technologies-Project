{
 "cells": [
  {
   "cell_type": "markdown",
   "metadata": {},
   "source": [
    "# Numpy random Package\n",
    "\n",
    "In This jupyter notebook we will discuss the concepts behind the numpy random package its various uses. along with this we will plot and discuss the various distrubitions availble to use in the numpy random package.\n",
    "\n",
    "the documentation can be found at https://docs.scipy.org/doc/numpy-1.15.1/reference/routines.random.html\n"
   ]
  },
  {
   "cell_type": "markdown",
   "metadata": {},
   "source": [
    "We will be importing the numpy package as np and the matplotlib.pyplot package as plt we will be using this to plot our results."
   ]
  },
  {
   "cell_type": "code",
   "execution_count": 1,
   "metadata": {},
   "outputs": [],
   "source": [
    "#importing numpy as np for simplicity.\n",
    "import numpy as np\n",
    "#importing matplotlib.pyplot as plt for simplicity.\n",
    "import matplotlib.pyplot as plt"
   ]
  },
  {
   "cell_type": "markdown",
   "metadata": {},
   "source": [
    "We will start with the numpy.random.random() method to describe some of the fundementals of the numpy random package and will explain the concepts in more depth as we go on.\n",
    "\n",
    "The below code is calling the random() method from numpys random package where size is the number of results we wish to generate. By default the random() method will generate an array of the given size(simply returns a single random value if no size is set) of floating point numbers between 0 and 1 including zero but not including one(ie. we can have 0,0.5 or even 0.99999 but not 1). This method uses uniform distribution to generate its random numbers."
   ]
  },
  {
   "cell_type": "code",
   "execution_count": 2,
   "metadata": {},
   "outputs": [
    {
     "data": {
      "text/plain": [
       "array([0.51288985, 0.45740686, 0.58017387, 0.11561694, 0.63927153])"
      ]
     },
     "execution_count": 2,
     "metadata": {},
     "output_type": "execute_result"
    }
   ],
   "source": [
    "#size = 5 generates ten random items.\n",
    "np.random.random(size = 5)"
   ]
  },
  {
   "cell_type": "markdown",
   "metadata": {},
   "source": [
    "### Uniform Distrubution.\n",
    "\n",
    "The uniform distribution used by numpys random() method is a symmetric probability distribution. this means that from what can be selected, in our case floats between 0 and 1, all possible values have the same probability of being selected. No bias or weight towards certain numbers. To show this we will generate 100,000 random numbers and plot the cumulative distribution function(CDF).\n",
    "\n",
    "The CDF of a real-valued random variable R, evaluated at x, is the probability that R will take a value less than or equal to x. The expected CDF will be a straight line from (0,0) to (1,1) if all the points ploted on this graph are on this line then we have sucsessfuly shown that the random() method generates numbers from a uniform Distribution."
   ]
  },
  {
   "cell_type": "code",
   "execution_count": 3,
   "metadata": {},
   "outputs": [
    {
     "data": {
      "image/png": "[encoded data removed]",
      "text/plain": [
       "<Figure size 432x288 with 1 Axes>"
      ]
     },
     "metadata": {},
     "output_type": "display_data"
    }
   ],
   "source": [
    "# Generate 100,000 random numbers and sort them.\n",
    "x = np.sort(np.random.random(size=100000))\n",
    "\n",
    "# Create CDF Y-Axis\n",
    "y = np.arange(1, len(x)+1) / len(x)\n",
    "\n",
    "# Plot CDF from random numbers (only selecting 100 points to improve legibility)\n",
    "plt.plot(x[::1000], y[::1000], marker='.', linestyle='none', markersize=10)\n",
    "\n",
    "# Plot expected CDF (just a straight line from (0,0) to (1,1)\n",
    "plt.plot([0, 1], [0, 1], 'k-')\n",
    "plt.show()"
   ]
  },
  {
   "cell_type": "markdown",
   "metadata": {},
   "source": [
    "As we can see the numbers generated follow the expected line to a high level of accuracy. thus showing that numpys random() method generates numbers between using a uniform distribution. To further show this we can plot a histogram as seen bellow and each value has more or less equal distrabution."
   ]
  },
  {
   "cell_type": "code",
   "execution_count": 4,
   "metadata": {},
   "outputs": [
    {
     "data": {
      "image/png": "[encoded data removed]",
      "text/plain": [
       "<Figure size 432x288 with 1 Axes>"
      ]
     },
     "metadata": {},
     "output_type": "display_data"
    }
   ],
   "source": [
    "#The more values we use the more accurate the results in this case we have genereated one million numbers.\n",
    "x = np.random.random(size=1000000)\n",
    "#plots the generated numbers of an histogram.\n",
    "plt.hist(x)\n",
    "plt.show()"
   ]
  },
  {
   "cell_type": "markdown",
   "metadata": {},
   "source": [
    "### Random generator\n",
    "\n",
    "Computers cannot currently Generate legitimately random numbers. They instead generate psudeo-random numbers, these generated numbers are based of whats known as a seed. This \"seed\" is a number(or vector) used to initilise a random number generator. if this seed was always the same the order of what numbers a random number generates would also be the same. we can show this by explicitly setting this seed value.(being able to explicity set the seed provides us with a means to test our programs that use random numbers.)"
   ]
  },
  {
   "cell_type": "code",
   "execution_count": 5,
   "metadata": {},
   "outputs": [
    {
     "data": {
      "text/plain": [
       "array([0.07630829, 0.77991879, 0.43840923, 0.72346518, 0.97798951])"
      ]
     },
     "execution_count": 5,
     "metadata": {},
     "output_type": "execute_result"
    }
   ],
   "source": [
    "#set the seed for the Random number generator.\n",
    "np.random.seed(7)\n",
    "#generate the random numbers based on this seed\n",
    "np.random.random(size=5)"
   ]
  },
  {
   "cell_type": "code",
   "execution_count": 6,
   "metadata": {},
   "outputs": [
    {
     "data": {
      "text/plain": [
       "array([0.51394334, 0.77316505, 0.87042769, 0.00804695, 0.30973593])"
      ]
     },
     "execution_count": 6,
     "metadata": {},
     "output_type": "execute_result"
    }
   ],
   "source": [
    "#set the seed for the Random number generator to something else.\n",
    "np.random.seed(14)\n",
    "#generate the random numbers based on this seed\n",
    "np.random.random(size=5)"
   ]
  },
  {
   "cell_type": "code",
   "execution_count": 7,
   "metadata": {},
   "outputs": [
    {
     "data": {
      "text/plain": [
       "array([0.07630829, 0.77991879, 0.43840923, 0.72346518, 0.97798951])"
      ]
     },
     "execution_count": 7,
     "metadata": {},
     "output_type": "execute_result"
    }
   ],
   "source": [
    "#set the seed for the Random number generator back to 7.\n",
    "np.random.seed(7)\n",
    "#generate the random numbers based on this seed\n",
    "np.random.random(size=5)"
   ]
  },
  {
   "cell_type": "markdown",
   "metadata": {},
   "source": [
    "As we can see when the seed is set to 7 we get the five numbers seen above. we then changed the seed to another number in this case 14 but it could be any other number and we then generated 5 more numbers. These numbers are all difrent than the intial 5 numbers. We then changed the seed back to the original 7 and when the next five numbers are generated we can see that they are the same as the initial five numbers. This shows us that the numbers generated are not truely random.\n",
    "\n",
    "We usualy use the current date time as the seed for a random number generator down to the a fraction of a second. This for all intents and purposes provides us with a unique seed thus making our psudeo-random number generator act incredibly close to an acctualy random number generator.\n",
    "\n",
    "This is still an active area research and many people are still working on new and inovative ways to \"randomly\" generate numbers.\n",
    "\n"
   ]
  },
  {
   "cell_type": "markdown",
   "metadata": {},
   "source": [
    "### Permutations.\n",
    "\n",
    "The numpy.random package also has the capability to permute  a sequance\n"
   ]
  },
  {
   "cell_type": "code",
   "execution_count": null,
   "metadata": {},
   "outputs": [],
   "source": []
  },
  {
   "cell_type": "code",
   "execution_count": 8,
   "metadata": {},
   "outputs": [
    {
     "ename": "SyntaxError",
     "evalue": "invalid syntax (<ipython-input-8-c7caaf305992>, line 1)",
     "output_type": "error",
     "traceback": [
      "\u001b[1;36m  File \u001b[1;32m\"<ipython-input-8-c7caaf305992>\"\u001b[1;36m, line \u001b[1;32m1\u001b[0m\n\u001b[1;33m    other simple data generation\u001b[0m\n\u001b[1;37m               ^\u001b[0m\n\u001b[1;31mSyntaxError\u001b[0m\u001b[1;31m:\u001b[0m invalid syntax\n"
     ]
    }
   ],
   "source": [
    "other simple data generation \n",
    "permutations\n",
    "distrobutions."
   ]
  }
 ],
 "metadata": {
  "kernelspec": {
   "display_name": "Python 3",
   "language": "python",
   "name": "python3"
  },
  "language_info": {
   "codemirror_mode": {
    "name": "ipython",
    "version": 3
   },
   "file_extension": ".py",
   "mimetype": "text/x-python",
   "name": "python",
   "nbconvert_exporter": "python",
   "pygments_lexer": "ipython3",
   "version": "3.6.5"
  }
 },
 "nbformat": 4,
 "nbformat_minor": 2
}
