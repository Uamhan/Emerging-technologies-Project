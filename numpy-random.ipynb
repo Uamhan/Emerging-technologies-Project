{
 "cells": [
  {
   "cell_type": "markdown",
   "metadata": {},
   "source": [
    "# Numpy random Package\n",
    "\n",
    "In This jupyter notebook we will discuss the concepts behind the numpy random package its various uses. along with this we will plot and discuss the various distrubitions availble to use in the numpy random package.\n",
    "\n",
    "the documentation can be found at https://docs.scipy.org/doc/numpy-1.15.1/reference/routines.random.html\n"
   ]
  },
  {
   "cell_type": "markdown",
   "metadata": {},
   "source": [
    "We will be importing the numpy package as np and the matplotlib.pyplot package as plt we will be using this to plot our results."
   ]
  },
  {
   "cell_type": "code",
   "execution_count": 1,
   "metadata": {},
   "outputs": [],
   "source": [
    "#importing numpy as np for simplicity.\n",
    "import numpy as np\n",
    "#importing matplotlib.pyplot as plt for simplicity.\n",
    "import matplotlib.pyplot as plt"
   ]
  },
  {
   "cell_type": "markdown",
   "metadata": {},
   "source": [
    "We will start with the numpy.random.random() method to describe some of the fundementals of the numpy random package and will explain the concepts in more depth as we go on.\n",
    "\n",
    "The below code is calling the random() method from numpys random package where size is the number of results we wish to generate. By default the random() method will generate an array of the given size(simply returns a single random value if no size is set) of floating point numbers between 0 and 1 including zero but not including one(ie. we can have 0,0.5 or even 0.99999 but not 1). This method uses uniform distribution to generate its random numbers."
   ]
  },
  {
   "cell_type": "code",
   "execution_count": 2,
   "metadata": {},
   "outputs": [
    {
     "data": {
      "text/plain": [
       "array([0.42096499, 0.18732378, 0.43624094, 0.84639494, 0.27367716])"
      ]
     },
     "execution_count": 2,
     "metadata": {},
     "output_type": "execute_result"
    }
   ],
   "source": [
    "#size = 5 generates ten random items.\n",
    "np.random.random(size = 5)"
   ]
  },
  {
   "cell_type": "markdown",
   "metadata": {},
   "source": [
    "### Uniform Distrubution.\n",
    "\n",
    "The uniform distribution used by numpys random() method is a symmetric probability distribution. this means that from what can be selected, in our case floats between 0 and 1, all possible values have the same probability of being selected. No bias or weight towards certain numbers. To show this we will generate 100,000 random numbers and plot the cumulative distribution function(CDF).\n",
    "\n",
    "The CDF of a real-valued random variable R, evaluated at x, is the probability that R will take a value less than or equal to x. The expected CDF will be a straight line from (0,0) to (1,1) if all the points ploted on this graph are on this line then we have sucsessfuly shown that the random() method generates numbers from a uniform Distribution."
   ]
  },
  {
   "cell_type": "code",
   "execution_count": 3,
   "metadata": {},
   "outputs": [
    {
     "data": {
      "image/png": "[encoded data removed]",
      "text/plain": [
       "<Figure size 432x288 with 1 Axes>"
      ]
     },
     "metadata": {},
     "output_type": "display_data"
    }
   ],
   "source": [
    "# Generate 100,000 random numbers and sort them.\n",
    "x = np.sort(np.random.random(size=100000))\n",
    "\n",
    "# Create CDF Y-Axis\n",
    "y = np.arange(1, len(x)+1) / len(x)\n",
    "\n",
    "# Plot CDF from random numbers (only selecting 100 points to improve legibility)\n",
    "plt.plot(x[::1000], y[::1000], marker='.')\n",
    "\n",
    "# Plot expected CDF (just a straight line from (0,0) to (1,1)\n",
    "plt.plot([0, 1], [0, 1], 'k-')\n",
    "plt.show()"
   ]
  },
  {
   "cell_type": "markdown",
   "metadata": {},
   "source": [
    "As we can see the numbers generated follow the expected line to a high level of accuracy. thus showing that numpys random() method generates numbers between using a uniform distribution. To further show this we can plot a histogram as seen bellow and each value has more or less equal distrabution."
   ]
  },
  {
   "cell_type": "code",
   "execution_count": 4,
   "metadata": {},
   "outputs": [
    {
     "data": {
      "image/png": "[encoded data removed]",
      "text/plain": [
       "<Figure size 432x288 with 1 Axes>"
      ]
     },
     "metadata": {},
     "output_type": "display_data"
    }
   ],
   "source": [
    "#The more values we use the more accurate the results in this case we have genereated one million numbers.\n",
    "x = np.random.random(size=1000000)\n",
    "#plots the generated numbers of an histogram.\n",
    "plt.hist(x)\n",
    "plt.show()"
   ]
  },
  {
   "cell_type": "markdown",
   "metadata": {},
   "source": [
    "### Random generator\n",
    "\n",
    "Computers cannot currently Generate legitimately random numbers. They instead generate psudeo-random numbers, these generated numbers are based of whats known as a seed. This \"seed\" is a number(or vector) used to initilise a random number generator. if this seed was always the same the order of what numbers a random number generates would also be the same. we can show this by explicitly setting this seed value.(being able to explicity set the seed provides us with a means to test our programs that use random numbers.)"
   ]
  },
  {
   "cell_type": "code",
   "execution_count": 5,
   "metadata": {},
   "outputs": [
    {
     "data": {
      "text/plain": [
       "array([0.07630829, 0.77991879, 0.43840923, 0.72346518, 0.97798951])"
      ]
     },
     "execution_count": 5,
     "metadata": {},
     "output_type": "execute_result"
    }
   ],
   "source": [
    "#set the seed for the Random number generator.\n",
    "np.random.seed(7)\n",
    "#generate the random numbers based on this seed\n",
    "np.random.random(size=5)"
   ]
  },
  {
   "cell_type": "code",
   "execution_count": 6,
   "metadata": {},
   "outputs": [
    {
     "data": {
      "text/plain": [
       "array([0.51394334, 0.77316505, 0.87042769, 0.00804695, 0.30973593])"
      ]
     },
     "execution_count": 6,
     "metadata": {},
     "output_type": "execute_result"
    }
   ],
   "source": [
    "#set the seed for the Random number generator to something else.\n",
    "np.random.seed(14)\n",
    "#generate the random numbers based on this seed\n",
    "np.random.random(size=5)"
   ]
  },
  {
   "cell_type": "code",
   "execution_count": 7,
   "metadata": {},
   "outputs": [
    {
     "data": {
      "text/plain": [
       "array([0.07630829, 0.77991879, 0.43840923, 0.72346518, 0.97798951])"
      ]
     },
     "execution_count": 7,
     "metadata": {},
     "output_type": "execute_result"
    }
   ],
   "source": [
    "#set the seed for the Random number generator back to 7.\n",
    "np.random.seed(7)\n",
    "#generate the random numbers based on this seed\n",
    "np.random.random(size=5)"
   ]
  },
  {
   "cell_type": "markdown",
   "metadata": {},
   "source": [
    "As we can see when the seed is set to 7 we get the five numbers seen above. we then changed the seed to another number in this case 14 but it could be any other number and we then generated 5 more numbers. These numbers are all difrent than the intial 5 numbers. We then changed the seed back to the original 7 and when the next five numbers are generated we can see that they are the same as the initial five numbers. This shows us that the numbers generated are not truely random.\n",
    "\n",
    "We usualy use the current date time as the seed for a random number generator down to the a fraction of a second. This for all intents and purposes provides us with a unique seed thus making our psudeo-random number generator act incredibly close to an acctualy random number generator.\n",
    "\n",
    "This is still an active area research and many people are still working on new and inovative ways to \"randomly\" generate numbers.\n",
    "\n"
   ]
  },
  {
   "cell_type": "markdown",
   "metadata": {},
   "source": [
    "### Permutations.\n",
    "\n",
    "The numpy.random package also has the capability to permute a sequance. A permutation relates to the act off arangeing elements of an set into a sequance or order. in our case re ordering the numpy arrays that are generated. if the set(array) is already ordered we can use permutations to reorder it.\n",
    "\n",
    "numpy.random gives us two option with this.\n",
    "\n",
    "The numpy.random.shuffle() method. and the numpy.random.permutation() method.\n",
    "\n",
    "The shuffle() method takes in the aray we wish to manipulate as a parameter and uses the seed to randomly \"shuffle\" or reorder the array we sent in as the parameter."
   ]
  },
  {
   "cell_type": "code",
   "execution_count": 8,
   "metadata": {},
   "outputs": [
    {
     "data": {
      "text/plain": [
       "array([0, 1, 2, 3, 4, 5, 6, 7, 8, 9])"
      ]
     },
     "execution_count": 8,
     "metadata": {},
     "output_type": "execute_result"
    }
   ],
   "source": [
    "#generates an ordered aray from 0-9 inclusive.\n",
    "x = np.arange(10)\n",
    "x"
   ]
  },
  {
   "cell_type": "code",
   "execution_count": 9,
   "metadata": {},
   "outputs": [
    {
     "data": {
      "text/plain": [
       "array([9, 3, 4, 0, 5, 2, 6, 1, 8, 7])"
      ]
     },
     "execution_count": 9,
     "metadata": {},
     "output_type": "execute_result"
    }
   ],
   "source": [
    "#rearanges the contents of the array x randomly.\n",
    "np.random.shuffle(x)\n",
    "x"
   ]
  },
  {
   "cell_type": "markdown",
   "metadata": {},
   "source": [
    "as we can see it has randomly reordered the sorted aray.\n",
    "\n",
    "this shuffle method can also be used on multi dimensional arrays although it works slightly difrent. When we use shuffle() on a multi dimension array it will onyl shuffle on the first axis."
   ]
  },
  {
   "cell_type": "code",
   "execution_count": 10,
   "metadata": {},
   "outputs": [
    {
     "data": {
      "text/plain": [
       "array([[0, 1, 2],\n",
       "       [3, 4, 5],\n",
       "       [6, 7, 8]])"
      ]
     },
     "execution_count": 10,
     "metadata": {},
     "output_type": "execute_result"
    }
   ],
   "source": [
    "#generates and ordered multi dimensional array from 0-8 inclusive with three numbers in each sub array.\n",
    "x = np.arange(9).reshape((3,3))\n",
    "x"
   ]
  },
  {
   "cell_type": "code",
   "execution_count": 11,
   "metadata": {},
   "outputs": [
    {
     "data": {
      "text/plain": [
       "array([[6, 7, 8],\n",
       "       [3, 4, 5],\n",
       "       [0, 1, 2]])"
      ]
     },
     "execution_count": 11,
     "metadata": {},
     "output_type": "execute_result"
    }
   ],
   "source": [
    "#suffles the first axis of the multi dimensional array.\n",
    "np.random.shuffle(x)\n",
    "x"
   ]
  },
  {
   "cell_type": "markdown",
   "metadata": {},
   "source": [
    "As we can see it reorders the sub arrays within the multi dimensial array but dose not reorder the contents of the sub arrays.\n",
    "\n",
    "This shuffle() method provides usefuly functionality at a high efficencey for exaple it could be used to shuffle a multi dimensional array representing a deck of cards.\n",
    "\n",
    "The other permutation method given to use in the numpy.random package is the numpy.random.permutation() method this works similarly to the shuffle method with a few key difrences. If passed an integer x as the input parameter it will randomly permute np.arange(x) giving us a randomly ordered aray containing the numbers 0 to x-1. if passed an array x instead of an integer it makes of copy of this array shuffles the elements in this copy and returns the copy. Copy being the key difrence between the permutation() and shuffle() methods. shuffle() shuffles the contents of an array, while permutation() creates a new copy of the aray and shuffles this new copyed array and returns it leaving the original input array untouched."
   ]
  },
  {
   "cell_type": "code",
   "execution_count": 12,
   "metadata": {},
   "outputs": [
    {
     "data": {
      "text/plain": [
       "array([6, 5, 1, 8, 4, 9, 2, 3, 0, 7])"
      ]
     },
     "execution_count": 12,
     "metadata": {},
     "output_type": "execute_result"
    }
   ],
   "source": [
    "#generates an ordered array from 0-9 inclusive and shuffles it.\n",
    "np.random.permutation(10)"
   ]
  },
  {
   "cell_type": "code",
   "execution_count": 13,
   "metadata": {},
   "outputs": [
    {
     "data": {
      "text/plain": [
       "array([9, 1, 4, 2, 6, 3, 0, 5, 7, 8])"
      ]
     },
     "execution_count": 13,
     "metadata": {},
     "output_type": "execute_result"
    }
   ],
   "source": [
    "#generate an order array from 0-9 inclusive.\n",
    "x = np.arange(10)\n",
    "#Creates a copy of this array and shuffles it and returns this shuffled copy.\n",
    "np.random.permutation(x)"
   ]
  },
  {
   "cell_type": "code",
   "execution_count": 14,
   "metadata": {},
   "outputs": [
    {
     "data": {
      "text/plain": [
       "array([0, 1, 2, 3, 4, 5, 6, 7, 8, 9])"
      ]
     },
     "execution_count": 14,
     "metadata": {},
     "output_type": "execute_result"
    }
   ],
   "source": [
    "#prints the original array.\n",
    "x"
   ]
  },
  {
   "cell_type": "markdown",
   "metadata": {},
   "source": [
    "As we can see even after the permutation() method has been called on the ordered array and displayed if we try to display the original array x we still get the ordered array. thus proving that it has no been shuffled and instead a copy has been made and shuffled instead."
   ]
  },
  {
   "cell_type": "markdown",
   "metadata": {},
   "source": [
    "### Simple random data\n",
    "\n",
    "so far we have discused random number generation under to pretense that we are using np.random.random() method to generate our radnom numbers. The numpy random package provides many other options for generateing random numbers. We will now look at some of the most widely used ones.\n",
    "\n",
    "##### rand(d0,d1...dn)\n",
    "the rand() method provides us with random values in a given shape the (d0,d1...dn) parameters representing these dimentions. This method also uses the uniform distrubtion we discused earlier.\n",
    "\n"
   ]
  },
  {
   "cell_type": "code",
   "execution_count": 15,
   "metadata": {},
   "outputs": [
    {
     "data": {
      "text/plain": [
       "array([[0.54848992, 0.90912837],\n",
       "       [0.13316945, 0.52341258],\n",
       "       [0.75040986, 0.66901324]])"
      ]
     },
     "execution_count": 15,
     "metadata": {},
     "output_type": "execute_result"
    }
   ],
   "source": [
    "#generates a multi dimensial array of random values with the shape of (3,2) with the uniform distrubution.\n",
    "np.random.rand(3,2)"
   ]
  },
  {
   "cell_type": "markdown",
   "metadata": {},
   "source": [
    "##### randn(d0,d1...dn)\n",
    "the randn() methods works the same way as the rand() method previously discused with one key difrence it uses the standard normal distrubution method instead of the uniform distribution method. we will discus these difrent distrubtions and what they mean in the next section of the notebook."
   ]
  },
  {
   "cell_type": "code",
   "execution_count": 16,
   "metadata": {},
   "outputs": [
    {
     "data": {
      "text/plain": [
       "array([[0.46775286, 0.20484909],\n",
       "       [0.49076589, 0.37238469],\n",
       "       [0.47740115, 0.36589039]])"
      ]
     },
     "execution_count": 16,
     "metadata": {},
     "output_type": "execute_result"
    }
   ],
   "source": [
    "#generates a multi dimensial array of random values with the shape of (3,2) with the standard normal distribution\n",
    "np.random.rand(3,2)"
   ]
  },
  {
   "cell_type": "markdown",
   "metadata": {},
   "source": [
    "##### randint(low, high, size)\n",
    "the randint() method takes in three parameters low,high and size to generate an array of random numbers using the uniform distribution.low represents the lowest integer value to be pulled from the distribution. high being the highest number to be pulled from the distribution and finaly size being the amount of numbers from these parameters to be generated. this allows us to generate an array of random values between the low and high parameter values of the given size. the high value is optional and if not given the aray generated will be between 0 and the low value-1. if the high value is specified the results will be between the low value and the high value-1. size is also an optional parameter and if not given the method will return a single random value in relation to the other parameters. "
   ]
  },
  {
   "cell_type": "code",
   "execution_count": 17,
   "metadata": {},
   "outputs": [
    {
     "data": {
      "text/plain": [
       "array([3, 0, 4, 0, 4, 3, 1, 3, 3, 3])"
      ]
     },
     "execution_count": 17,
     "metadata": {},
     "output_type": "execute_result"
    }
   ],
   "source": [
    "#will generate numbers between 0-4 inclusive.\n",
    "np.random.randint(5,size=10)"
   ]
  },
  {
   "cell_type": "code",
   "execution_count": 18,
   "metadata": {},
   "outputs": [
    {
     "data": {
      "text/plain": [
       "array([3, 5, 5, 2, 5, 3, 5, 4, 3, 3])"
      ]
     },
     "execution_count": 18,
     "metadata": {},
     "output_type": "execute_result"
    }
   ],
   "source": [
    "#will generate numbers between 2-5 inclusive.\n",
    "np.random.randint(2,6,size=10)"
   ]
  },
  {
   "cell_type": "markdown",
   "metadata": {},
   "source": [
    "the size paremeter can also be given as an array shape and as such will generate a multi dimensional array withe the given parameters."
   ]
  },
  {
   "cell_type": "code",
   "execution_count": 19,
   "metadata": {},
   "outputs": [
    {
     "data": {
      "text/plain": [
       "array([[3, 3, 3, 5, 5],\n",
       "       [4, 5, 4, 4, 3],\n",
       "       [5, 5, 5, 4, 5]])"
      ]
     },
     "execution_count": 19,
     "metadata": {},
     "output_type": "execute_result"
    }
   ],
   "source": [
    "np.random.randint(2,6,size=(3,5))"
   ]
  },
  {
   "cell_type": "markdown",
   "metadata": {},
   "source": [
    "##### choice(a,size,replace,p)\n",
    "the choice() method generates a random sample from a given 1 diimensional array a. this allows us to input an array of choices and randomly select a single value from this array or to to generate a new array of values based on random choices from the input array. the parameter a is the input array we wish to randomly select from. if this parameter is instead an integer x the array we select from is np.arange(x). the size parameter is the size of the returned array we want if left out we instead recive a single value from the possible choices.the boolean parameter replace defines weather when selecting from the given array we replace the value taken. For example if we set replace to false and we have an ordered aray from 0 to 9 and the first number selected from this array is 0 the possible choices for the next value are from 1-9 as we have not replaced the value 0 by default this parameter is set to true. The parameter p is the probability of each value in a of being selected if not given the method will use the unifor distribution."
   ]
  },
  {
   "cell_type": "code",
   "execution_count": 20,
   "metadata": {},
   "outputs": [
    {
     "data": {
      "text/plain": [
       "array([0, 0, 1, 3, 1, 1, 0, 3, 2, 2])"
      ]
     },
     "execution_count": 20,
     "metadata": {},
     "output_type": "execute_result"
    }
   ],
   "source": [
    "#will generate an array of 10 values between 0-3 inclusive.\n",
    "np.random.choice(4,10)"
   ]
  },
  {
   "cell_type": "code",
   "execution_count": 21,
   "metadata": {},
   "outputs": [
    {
     "data": {
      "text/plain": [
       "array([ 9,  0,  1, 14, 19, 17,  5, 18, 12,  2])"
      ]
     },
     "execution_count": 21,
     "metadata": {},
     "output_type": "execute_result"
    }
   ],
   "source": [
    "#will generate an array of 10 values between 0-19 inclusive with no repeates\n",
    "np.random.choice(20,10,replace=False)"
   ]
  },
  {
   "cell_type": "markdown",
   "metadata": {},
   "source": [
    "This funtionality is widely used in many areas for example in gaming we could have use this functionaility so that when the player opens a chest they get given a random item from an array of possible items."
   ]
  },
  {
   "cell_type": "markdown",
   "metadata": {},
   "source": [
    "### Distributions\n",
    "\n",
    "So far we have predominatly been looking at random number generation using the uniform distribution as stated above this method gives equal probability to all possible choices to be chosen but there are far more distribution methods availble to us.\n",
    "\n",
    "In the numpy random package their are 35 possible disributions to select from. We will discuss Three Common distributions in this section and how they difer from uniform distribution we discussed above, aswell as why and when they may be used. the rest of the distributions can be found in the numpy.random documentation under the Distributions heading. \n",
    "\n",
    "https://docs.scipy.org/doc/numpy-1.15.1/reference/routines.random.html\n",
    "\n",
    "##### 1. Standard normal distribution.\n",
    "the standard normal distribution often called the bell curve is a distribution with a higher probability of a value being selected the closer it is to the predefined centre of the distribution with the likely hood of a value being selected decreasing the further it is from this center or mean value. \n",
    "\n",
    "this distribution is most commonly implement in the numpy random package via the numpy.random.normal() method.\n",
    "\n",
    "numpy.random.normal(loc=0.0, scale=1.0, size=None)\n",
    "\n",
    "The parameter loc refers to the center of the distribution or the mean value (the most probable choice)\n",
    "\n",
    "The parameter scale refers to the standard diviation or \"width\" of the distribution.\n",
    "\n",
    "The paramater size refers to the number of generate values we desire."
   ]
  },
  {
   "cell_type": "code",
   "execution_count": 22,
   "metadata": {},
   "outputs": [
    {
     "data": {
      "image/png": "[encoded data removed]",
      "text/plain": [
       "<Figure size 432x288 with 1 Axes>"
      ]
     },
     "metadata": {},
     "output_type": "display_data"
    }
   ],
   "source": [
    "#mean value\n",
    "mu = 0\n",
    "#stanard deviation\n",
    "sigma = 0.1\n",
    "#generates an array of 10,000 values with the mean and standard deviations we defined above.\n",
    "array = np.random.normal(mu,sigma,10000)\n",
    "#plots this array of 10000 points on a histogram.\n",
    "plt.hist(array)\n",
    "plt.show()"
   ]
  },
  {
   "cell_type": "markdown",
   "metadata": {},
   "source": [
    "As we can see the center point we selected was 0.0 and the histagram shows us that the closer the value was to this center point the more likely it was to be selected out of our set of 10,000 choices.\n",
    "\n",
    "This distribution differs greatly from the uniform distribution we looked at earlyer where all values had an equal chance of being selected.\n",
    "\n",
    "A good example of a bell curve is the combined value when rolling two dice. posible values are between 2 and 12 inclusive. 7 is the most likely value as it has the most possible cominations. the next being 6 and 8. Then 5 and 9. then 4 and 10 then 3 and 11 and finaly 2 and 12."
   ]
  },
  {
   "cell_type": "raw",
   "metadata": {},
   "source": [
    "02 = (1,1)                               |possible choices = 1\n",
    "03 = (1,2) (2,1)                         |possible choices = 2\n",
    "04 = (1,3) (2,2) (3,1)                   |possible choices = 3\n",
    "05 = (1,4) (2,3) (3,2) (4,1)             |possible choices = 4\n",
    "06 = (1,5) (2,4) (3,3) (4,2) (5,1)       |possible choices = 5\n",
    "07 = (1,6) (2,5) (3,4) (4,3) (5,2) (6,1) |possible choices = 6\n",
    "08 = (2,6) (3,5) (4,4) (5,3) (6,2)       |possible choices = 5\n",
    "09 = (3,6) (4,5) (5,4) (6,3)             |possible choices = 4\n",
    "10 = (4,6) (5,5) (6,4)                   |possible choices = 3\n",
    "11 = (5,6) (6,5)                         |possible choices = 2\n",
    "12 = (6,6)                               |possible choices = 1"
   ]
  },
  {
   "cell_type": "markdown",
   "metadata": {},
   "source": [
    "as we can see from all the possible compinations of two dice rolls it perfectly represents a standard normal distribution with the probability being the highest in the center and gradualy decreseing the further we deviate from this centre. We can show this on a histogram with the following code."
   ]
  },
  {
   "cell_type": "code",
   "execution_count": 23,
   "metadata": {
    "scrolled": true
   },
   "outputs": [
    {
     "data": {
      "image/png": "[encoded data removed]",
      "text/plain": [
       "<Figure size 432x288 with 1 Axes>"
      ]
     },
     "metadata": {},
     "output_type": "display_data"
    }
   ],
   "source": [
    "#mean value being the most common roll of 7\n",
    "mu = 7\n",
    "#stanard deviation calculated by taking the mean value from all possible values and squareing them\n",
    "#finding the mean value of these new values and getting the square root of this new mean value.\n",
    "sigma = 3.16227766017\n",
    "#generates an array of 10,000 values with the mean and standard deviations we defined above.\n",
    "array = np.random.normal(mu,sigma,10000)\n",
    "#plots this array of 10000 points on a histogram.\n",
    "plt.hist(array)\n",
    "plt.show()"
   ]
  },
  {
   "cell_type": "markdown",
   "metadata": {},
   "source": [
    "as we can see it produces a bell curve shapped graph showing us that these dice rolls also follow the standard normal distribution."
   ]
  },
  {
   "cell_type": "markdown",
   "metadata": {},
   "source": [
    "### 2. Binomial distribution.\n",
    "\n",
    "Binomial distribution is used to model the probability of obtaining one of two outcomes, a certain number of times, out of fixed number of trials of a discrete random event. one of the easiest real world examples would be the probability of a series of coin flips. lets say we flip a coin 10 times and want to know the probability of getting seven heads. we can use the binomial distribution to calculate this."
   ]
  },
  {
   "cell_type": "code",
   "execution_count": 24,
   "metadata": {},
   "outputs": [
    {
     "data": {
      "text/plain": [
       "0.1172"
      ]
     },
     "execution_count": 24,
     "metadata": {},
     "output_type": "execute_result"
    }
   ],
   "source": [
    "#number of coin flips per trial.\n",
    "n = 10\n",
    "#probability of each flip(heads or tails being 50/50 or 0.5)\n",
    "p= 0.5  \n",
    "#number of times we wish the trial to be done\n",
    "times = 10000\n",
    "#number of heads per n coinflips we want to calculate the probability of\n",
    "h = 7\n",
    "#gets the sum the results from the binomial distribution where the number of sucsesses equals h and divides it\n",
    "#by the number of times the trial was run to the probability of that that outcome.  \n",
    "s = sum(np.random.binomial(n, p,times)==h)/times\n",
    "s"
   ]
  },
  {
   "cell_type": "markdown",
   "metadata": {},
   "source": [
    "The default value of h above is seven this gives us the probability of getting seven heads when we flip a coin 10 times. we can change this h value to any number between 0 and n inclusive and we will be given the probability of getting heads that many times in n coin flips.\n",
    "\n",
    "Binomial distributions are used when the result is either a sucsess or a fail and we know the probability of an individual sucsess. it allows us to calculate the probability of obtaining a perticular outcome a certain amount of times within a predefind number of trys.\n",
    "\n",
    "we can visualise this distribution on a histogram as follows. "
   ]
  },
  {
   "cell_type": "code",
   "execution_count": 25,
   "metadata": {},
   "outputs": [
    {
     "data": {
      "image/png": "[encoded data removed]",
      "text/plain": [
       "<Figure size 432x288 with 1 Axes>"
      ]
     },
     "metadata": {},
     "output_type": "display_data"
    }
   ],
   "source": [
    "#number of times the event will occur per trial\n",
    "n = 10\n",
    "#probability of each event being a sucsess (in this case)\n",
    "p= 0.25  \n",
    "#number of times we wish the trial to be done\n",
    "times = 1000000\n",
    "#in this case the event will be atempted 10 times with a 25% change of sucsess per trial with 1 million trials.\n",
    "x = np.random.binomial(n,p,times)\n",
    "#plotinf this on the histogram shows us how many times in the million atempts each outcome occured.\n",
    "plt.hist(x)\n",
    "plt.show()"
   ]
  },
  {
   "cell_type": "markdown",
   "metadata": {},
   "source": [
    "specificly in relation to numpy.random which has the primary purpose of generating random numbers the binomial() method returns an array with all the given outcomes of the trials this results in us having an array of randomly generated numbers with a binomial distrubution under the n and p parameters."
   ]
  },
  {
   "cell_type": "code",
   "execution_count": 26,
   "metadata": {},
   "outputs": [
    {
     "data": {
      "text/plain": [
       "array([3, 5, 3, 4, 4, 6, 2, 4, 4, 5, 5, 3, 7, 6, 5, 6, 6, 6, 5, 6])"
      ]
     },
     "execution_count": 26,
     "metadata": {},
     "output_type": "execute_result"
    }
   ],
   "source": [
    "# 10 events per trial with a 50% chance of sucsess with 20 trials\n",
    "np.random.binomial(10,0.5,20)\n",
    "#the array that is returned to us contains values witch represent the number of sucsesses from each of the 20 trials."
   ]
  },
  {
   "cell_type": "markdown",
   "metadata": {},
   "source": [
    "### Pareto distribution.\n",
    "\n",
    "The Pareto distribution, is a power-law probability distribution that is used in description of social, scientific and many other types of observable phenomena. It was originaly used to describe the distribution of wealth in a society, Although can be seen in a huge variety of places specificly but not limited to when ever humans are involved. The Pareto distrubution is commonly reffered to as the pareto principle or the 80-20 rule. The general understanding of this is that for exaple in a human society 80% of the money will be owned by 20% of the population, or similarly 80% of the work needed by a company will be done by 20% of the workers. This is most evedent in the creative sectors in that 20 percent of Writers/artists/musicians/ produce 80 of literature/art/music.\n",
    "\n",
    "In the numpy random package we have accsess to the numpy.random.pareto() method this method draws a sample from the Pareto II distribution which is a slight variant of the Pareto distribution that has been shifted so that the the lowest value is 0. This suits our needs as a distribution for random number generation."
   ]
  },
  {
   "cell_type": "code",
   "execution_count": 27,
   "metadata": {},
   "outputs": [
    {
     "data": {
      "image/png": "[encoded data removed]",
      "text/plain": [
       "<Figure size 432x288 with 1 Axes>"
      ]
     },
     "metadata": {},
     "output_type": "display_data"
    }
   ],
   "source": [
    "#the shape of the distribution\n",
    "shape = 5.\n",
    "#number of values to be pulled.\n",
    "nsize = 10000\n",
    "#creates array s filled with the results from the pareto distribution.\n",
    "s = np.random.pareto(shape, size=nsize)\n",
    "#plots generated array on histogram\n",
    "plt.hist(s, 100)\n",
    "plt.show()"
   ]
  },
  {
   "cell_type": "markdown",
   "metadata": {},
   "source": [
    "In this distribution, 80 percent of the weights are in the lowest 20 percent of the range, while the other 20 percent fill the remaining 80 percent of the range. the perato() method returns 0 most frequently by default and the further from 0 we get the lower the probability. we can change the most common value (known as the mode) to a difrent value by adding on the the function and multiplying it by the required mode. as seen in the code bellow."
   ]
  },
  {
   "cell_type": "code",
   "execution_count": 28,
   "metadata": {},
   "outputs": [
    {
     "data": {
      "image/png": "[encoded data removed]",
      "text/plain": [
       "<Figure size 432x288 with 1 Axes>"
      ]
     },
     "metadata": {},
     "output_type": "display_data"
    }
   ],
   "source": [
    "# mode is the most frequenctly occuring value\n",
    "mode = 5\n",
    "\n",
    "#the shape of the distribution\n",
    "shape = 5.\n",
    "#number of values to be pulled.\n",
    "nsize = 10000\n",
    "#creates array s filled with the results from the pareto distribution.\n",
    "s = (np.random.pareto(shape, size=nsize)+1) * mode\n",
    "#plots generated array on histogram\n",
    "plt.hist(s, 100)\n",
    "plt.show()"
   ]
  },
  {
   "cell_type": "markdown",
   "metadata": {},
   "source": [
    "The pareto distribution while most commonly seen in human acctivites as discused above can be useful in random number generation where we want to give a very heavy weight to a small range of values out of a larger set of values instead of giving an equal value to each possible value as seen in the uniform distribution disscussed above."
   ]
  },
  {
   "cell_type": "markdown",
   "metadata": {},
   "source": [
    "## Summary\n",
    "\n",
    "In this jupyter notebook we explored the uses of the numpy random package from the basic number generation methods it contains, to the permutation methods that allow us to randomly reorder arrays and finaly we explored some of the possible probility distributions we can select from and why we may select these distributions. All content in this notebook was derived from the very extensive numpy random package documention. Availible at https://docs.scipy.org/doc/numpy-1.15.1/reference/routines.random.html. further information regarding definitions and explenations of distributions were researched using the extensive information availble at http://mathworld.wolfram.com/\n",
    "\n"
   ]
  },
  {
   "cell_type": "code",
   "execution_count": null,
   "metadata": {},
   "outputs": [],
   "source": []
  }
 ],
 "metadata": {
  "kernelspec": {
   "display_name": "Python 3",
   "language": "python",
   "name": "python3"
  },
  "language_info": {
   "codemirror_mode": {
    "name": "ipython",
    "version": 3
   },
   "file_extension": ".py",
   "mimetype": "text/x-python",
   "name": "python",
   "nbconvert_exporter": "python",
   "pygments_lexer": "ipython3",
   "version": "3.6.5"
  }
 },
 "nbformat": 4,
 "nbformat_minor": 2
}
