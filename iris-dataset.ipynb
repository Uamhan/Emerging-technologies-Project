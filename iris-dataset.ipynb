a jupyter notebook explaining the famous
iris data set including the difficulty in writing an algorithm to separate
the three classes of iris based on the variables in the dataset