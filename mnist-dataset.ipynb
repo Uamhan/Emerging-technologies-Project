a jupyter notebook explaining how to
read the MNIST dataset efficiently into memory in Python.